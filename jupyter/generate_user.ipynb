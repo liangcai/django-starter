{
 "cells": [
  {
   "cell_type": "code",
   "execution_count": null,
   "metadata": {},
   "outputs": [],
   "source": [
    "import os\n",
    "from faker import Faker\n",
    "import random\n",
    "from django.db import IntegrityError\n",
    "print(os.environ.get('DJANGO_SETTINGS_MODULE'))\n",
    "print(os.environ.get(\"DJANGO_ALLOW_ASYNC_UNSAFE\"))\n",
    "\n",
    "from django.contrib.auth.models import Group\n",
    "# from profile.models import User\n",
    "\n",
    "fake = Faker()\n",
    "# generate users by Faker\n",
    "\n",
    "\n",
    "def user_faker():\n",
    "    u = {}\n",
    "    u['username'] = fake.unique.user_name()\n",
    "    u['password'] = fake.password()\n",
    "    u['is_superuser'] = False\n",
    "    u['is_staff'] = False\n",
    "    return u\n",
    "\n",
    "\n",
    "def user_generator(profile):\n",
    "    # user = User.objects.create_user(**u)\n",
    "    user = User(**profile)\n",
    "    return user\n",
    "\n",
    "def group_generator(group_name):\n",
    "    try:\n",
    "        group = Group.objects.create(name=group_name)\n",
    "    except IntegrityError:\n",
    "        print(f\"group {group_name} is exist!\")\n",
    "        group = Group.objects.get(name=group_name)\n",
    "    return group\n",
    "\n",
    "\n",
    "# if save=True, the uses will save to db\n",
    "def add_bulk_user(user_num, group_name=\"nogroup\", save=False):\n",
    "    print(f\"****** start add {user_num} users ******\")\n",
    "    for _ in range(user_num):\n",
    "        profile = user_faker()\n",
    "        user = user_generator(profile)\n",
    "        user.set_password(profile['password'])\n",
    "        if save:\n",
    "            user.save()\n",
    "            if group_name !=\"nogroup\":\n",
    "                group = group_generator(group_name=group_name)\n",
    "                user.groups.add(group)\n",
    "            print(f\"save {user.username} to group {group_name}\")\n",
    "        else:\n",
    "            print(f\"test only | add {user.username} to group {group_name}\")\n",
    "            \n",
    "    if not save:\n",
    "        print(\"****** Test Task End, Please use save=True params to save to db ******\\n\\n\")\n",
    "    else:\n",
    "        print(\"****** End ******\\n\\n\")\n",
    "        \n",
    "\n",
    "# insert first 3 users to db\n",
    "def add_default_user():\n",
    "    \n",
    "    admin = {'username': 'admin', 'password': '123456',\n",
    "             'is_superuser': True, 'is_staff': True}\n",
    "    foo = {'username': 'foo', 'password': '123456',\n",
    "           'is_superuser': False, 'is_staff': True}\n",
    "    bar = {'username': 'bar', 'password': '123456',\n",
    "           'is_superuser': False, 'is_staff': False}\n",
    "    cus = {'username': 'cus', 'password': '123456',\n",
    "           'is_superuser': False, 'is_staff': False}\n",
    "    group_list= ['manager', 'staff', 'user']\n",
    "    \n",
    "    for profile, group_name in zip([admin, foo, bar], group_list):\n",
    "        user = user_generator(profile)\n",
    "        \n",
    "        try:\n",
    "            user.set_password('123456')\n",
    "            user.save()\n",
    "        except IntegrityError:\n",
    "            print(f\"user {profile['username']} is exist\")\n",
    "            user = User.objects.get(username=profile['username'])\n",
    "        \n",
    "        group = group_generator(group_name)\n",
    "        user.groups.add(group)\n",
    "\n",
    "    \n",
    "    print(\"****** End ******\\n\\n\")\n"
   ]
  },
  {
   "cell_type": "code",
   "execution_count": null,
   "metadata": {},
   "outputs": [],
   "source": [
    "add_default_user()"
   ]
  },
  {
   "cell_type": "code",
   "execution_count": null,
   "metadata": {},
   "outputs": [],
   "source": [
    "group = Group.objects.get(name=\"manager\")\n",
    "admin = User.objects.get(username='admin')"
   ]
  },
  {
   "cell_type": "code",
   "execution_count": null,
   "metadata": {},
   "outputs": [],
   "source": [
    "admin.groups.all()"
   ]
  },
  {
   "cell_type": "code",
   "execution_count": null,
   "metadata": {},
   "outputs": [],
   "source": [
    "# add_bulk_user(user_num=10, group_name='user', save=True)\n",
    "add_bulk_user(user_num=10, group_name='user')   #test"
   ]
  },
  {
   "cell_type": "code",
   "execution_count": null,
   "metadata": {},
   "outputs": [],
   "source": []
  }
 ],
 "metadata": {
  "kernelspec": {
   "display_name": "Django Kernel",
   "language": "python",
   "name": "django_extensions"
  },
  "language_info": {
   "codemirror_mode": {
    "name": "ipython",
    "version": 3
   },
   "file_extension": ".py",
   "mimetype": "text/x-python",
   "name": "python",
   "nbconvert_exporter": "python",
   "pygments_lexer": "ipython3",
   "version": "3.10.6"
  },
  "orig_nbformat": 4
 },
 "nbformat": 4,
 "nbformat_minor": 2
}
